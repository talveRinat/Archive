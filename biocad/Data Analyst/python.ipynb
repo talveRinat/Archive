{
  "cells": [
    {
      "cell_type": "markdown",
      "metadata": {
        "id": "J536JVrgkWhB"
      },
      "source": [
        "<center style=\"font-size: 26px\"> <b>Проверка уровня знаний Python</b></center>"
      ]
    },
    {
      "cell_type": "code",
      "execution_count": null,
      "metadata": {
        "id": "43oiWvzYkWhD"
      },
      "outputs": [],
      "source": [
        "# обеспечиваем совместимость с Python 2 и 3\n",
        "from __future__ import (absolute_import, division, print_function, unicode_literals)\n",
        "\n",
        "# отключаем предупреждения дистрибутива Anaconda\n",
        "import warnings\n",
        "warnings.simplefilter('ignore')"
      ]
    },
    {
      "cell_type": "markdown",
      "metadata": {
        "id": "cSZI9XE4kWhE"
      },
      "source": [
        "### Практические задания:"
      ]
    },
    {
      "cell_type": "markdown",
      "metadata": {
        "id": "LKBVqYpskWhE"
      },
      "source": [
        "#### Загрузите датасет, который вы использовали в блоке задания Power BI как dataframe\n",
        "\n",
        "[Датасет с платформы ИНИД](https://www.data-in.ru/data-catalog/datasets/133/#dataset-overview)"
      ]
    },
    {
      "cell_type": "code",
      "source": [
        "import pandas as pd"
      ],
      "metadata": {
        "id": "Ryp73eo0l-PL"
      },
      "execution_count": null,
      "outputs": []
    },
    {
      "cell_type": "code",
      "source": [
        "from google.colab import drive\n",
        "drive.mount('/content/drive')"
      ],
      "metadata": {
        "colab": {
          "base_uri": "https://localhost:8080/"
        },
        "id": "J2rE_H4DmKNF",
        "outputId": "20e40f63-b0fc-4e5f-e2ae-24ef0b535689"
      },
      "execution_count": null,
      "outputs": [
        {
          "output_type": "stream",
          "name": "stdout",
          "text": [
            "Mounted at /content/drive\n"
          ]
        }
      ]
    },
    {
      "cell_type": "code",
      "execution_count": null,
      "metadata": {
        "id": "ZNDSbaKokWhF"
      },
      "outputs": [],
      "source": [
        "# ВАШ КОД ЗДЕСЬ\n",
        "df = pd.read_excel('/content/drive/MyDrive/data.xlsx', sheet_name=1)"
      ]
    },
    {
      "cell_type": "code",
      "source": [
        "df"
      ],
      "metadata": {
        "colab": {
          "base_uri": "https://localhost:8080/",
          "height": 730
        },
        "id": "ooAe46RkmViU",
        "outputId": "840a62ba-11ed-412c-8104-229b438f26f0"
      },
      "execution_count": null,
      "outputs": [
        {
          "output_type": "execute_result",
          "data": {
            "text/plain": [
              "      Страна Краткие обозначения           Город Дата \\nпоставки/\\nновости  \\\n",
              "0    Абхазия                  AB             NaN                2020-03-20   \n",
              "1    Абхазия                  AB             NaN                2020-04-18   \n",
              "2    Абхазия                  AB             NaN                2020-10-18   \n",
              "3    Абхазия                  AB             NaN                2020-10-27   \n",
              "4    Абхазия                  AB           Сухум                2020-10-20   \n",
              "..       ...                 ...             ...                       ...   \n",
              "214  Украина                  UA         Луганск                2021-07-28   \n",
              "215  Украина                  UA          Донецк                2021-12-23   \n",
              "216  Украина                  UA         Луганск                2021-11-25   \n",
              "217  Украина                  UA          Донецк                2021-11-25   \n",
              "218  Абхазия                  AB  Сухум, Гудаута                2021-08-19   \n",
              "\n",
              "    Дата завершения (для случаев отправления персонала)  \\\n",
              "0                                                  NaT    \n",
              "1                                           2020-05-18    \n",
              "2                                                  NaT    \n",
              "3                                                  NaT    \n",
              "4                                           2021-03-09    \n",
              "..                                                 ...    \n",
              "214                                                NaT    \n",
              "215                                                NaT    \n",
              "216                                                NaT    \n",
              "217                                                NaT    \n",
              "218                                         2021-09-24    \n",
              "\n",
              "    Природа помощи (правительственная/неправительственная)  \\\n",
              "0                                                    П       \n",
              "1                                                    П       \n",
              "2                                                    П       \n",
              "3                                                    П       \n",
              "4                                                    П       \n",
              "..                                                 ...       \n",
              "214                                                  П       \n",
              "215                                                  П       \n",
              "216                                                  П       \n",
              "217                                                  П       \n",
              "218                                                  П       \n",
              "\n",
              "     Наборы тестов (кол-во)  Тест-системы/исследования (кол-во)  Тесты (факт)  \\\n",
              "0                       NaN                               400.0           1.0   \n",
              "1                       NaN                                 NaN           NaN   \n",
              "2                       NaN                                 NaN           NaN   \n",
              "3                    1000.0                             10000.0           1.0   \n",
              "4                       NaN                                 NaN           NaN   \n",
              "..                      ...                                 ...           ...   \n",
              "214                     NaN                                 NaN           NaN   \n",
              "215                     NaN                                 NaN           NaN   \n",
              "216                     NaN                                 NaN           NaN   \n",
              "217                     NaN                                 NaN           NaN   \n",
              "218                     NaN                                 NaN           NaN   \n",
              "\n",
              "     СИЗ (факт)  ...                                         Источник 1  \\\n",
              "0           NaN  ...  https://sputnik-abkhazia.ru/Abkhazia/20200320/...   \n",
              "1           NaN  ...  https://www.mid.ru/ru/press_service/spokesman/...   \n",
              "2           NaN  ...  https://function.mil.ru/news_page/country/more...   \n",
              "3           NaN  ...  https://apsnypress.info/ru/item/1283-rospotreb...   \n",
              "4           NaN  ...  https://function.mil.ru/news_page/country/more...   \n",
              "..          ...  ...                                                ...   \n",
              "214         NaN  ...  https://sovminlnr.ru/novosti/25116-partiya-vak...   \n",
              "215         NaN  ...  https://mzdnr.ru/news/v-respubliku-pribyla-och...   \n",
              "216         NaN  ...  https://mzlnr.su/2021/11/25/gumkonvoj-mchs-rf-...   \n",
              "217         NaN  ...  https://mzdnr.ru/news/v-doneckuyu-narodnuyu-re...   \n",
              "218         NaN  ...  https://www.mid.ru/ru/press_service/spokesman/...   \n",
              "\n",
              "                                            Источник 2  \\\n",
              "0    https://sputnik-abkhazia.ru/Abkhazia/20200326/...   \n",
              "1    https://abkhazia.mid.ru/ru/press-centre/news/o...   \n",
              "2    https://sputnik-abkhazia.ru/Abkhazia/20201107/...   \n",
              "3                   https://tass.ru/obschestvo/9832327   \n",
              "4    https://function.mil.ru/news_page/country/more...   \n",
              "..                                                 ...   \n",
              "214  https://lug-info.com/statements/zayavlenie-gla...   \n",
              "215  https://www.mchs.gov.ru/deyatelnost/press-cent...   \n",
              "216  https://www.mchs.gov.ru/deyatelnost/press-cent...   \n",
              "217  https://dan-news.info/foto/rossijskie-spasatel...   \n",
              "218  https://function.mil.ru/news_page/country/more...   \n",
              "\n",
              "                                            Источник 3  Роспотребнадзор  МЧС  \\\n",
              "0                                                  NaN              1.0  NaN   \n",
              "1    https://sputnik-abkhazia.ru/coronavirus/202004...              NaN  NaN   \n",
              "2    https://function.mil.ru/news_page/country/more...              NaN  NaN   \n",
              "3                                                  NaN              1.0  NaN   \n",
              "4    https://sputnik-abkhazia.ru/20210312/Na-pomosc...              NaN  NaN   \n",
              "..                                                 ...              ...  ...   \n",
              "214                https://tass.ru/obschestvo/11788621              NaN  NaN   \n",
              "215                                                NaN              NaN  1.0   \n",
              "216                                                NaN              NaN  1.0   \n",
              "217  https://www.mchs.gov.ru/deyatelnost/press-cent...              NaN  1.0   \n",
              "218  https://function.mil.ru/news_page/country/more...              NaN  NaN   \n",
              "\n",
              "     Минобороны  Минздрав  ФМБА  Другие организации  \\\n",
              "0           NaN       NaN   NaN                 NaN   \n",
              "1           1.0       NaN   NaN                 NaN   \n",
              "2           1.0       NaN   NaN                 NaN   \n",
              "3           NaN       NaN   NaN                 NaN   \n",
              "4           1.0       NaN   NaN                 NaN   \n",
              "..          ...       ...   ...                 ...   \n",
              "214         NaN       NaN   NaN       Единая Россия   \n",
              "215         NaN       NaN   NaN                 NaN   \n",
              "216         NaN       NaN   NaN                 NaN   \n",
              "217         NaN       NaN   NaN                 NaN   \n",
              "218         1.0       NaN   NaN                 NaN   \n",
              "\n",
              "    Международные \\nорганизации  \n",
              "0                           NaN  \n",
              "1                           NaN  \n",
              "2                           NaN  \n",
              "3                           NaN  \n",
              "4                           NaN  \n",
              "..                          ...  \n",
              "214                         NaN  \n",
              "215                         NaN  \n",
              "216                         NaN  \n",
              "217                         NaN  \n",
              "218                         NaN  \n",
              "\n",
              "[219 rows x 30 columns]"
            ],
            "text/html": [
              "\n",
              "  <div id=\"df-d2b81c60-4fc6-460a-9841-7adaff488ee7\">\n",
              "    <div class=\"colab-df-container\">\n",
              "      <div>\n",
              "<style scoped>\n",
              "    .dataframe tbody tr th:only-of-type {\n",
              "        vertical-align: middle;\n",
              "    }\n",
              "\n",
              "    .dataframe tbody tr th {\n",
              "        vertical-align: top;\n",
              "    }\n",
              "\n",
              "    .dataframe thead th {\n",
              "        text-align: right;\n",
              "    }\n",
              "</style>\n",
              "<table border=\"1\" class=\"dataframe\">\n",
              "  <thead>\n",
              "    <tr style=\"text-align: right;\">\n",
              "      <th></th>\n",
              "      <th>Страна</th>\n",
              "      <th>Краткие обозначения</th>\n",
              "      <th>Город</th>\n",
              "      <th>Дата \\nпоставки/\\nновости</th>\n",
              "      <th>Дата завершения (для случаев отправления персонала)</th>\n",
              "      <th>Природа помощи (правительственная/неправительственная)</th>\n",
              "      <th>Наборы тестов (кол-во)</th>\n",
              "      <th>Тест-системы/исследования (кол-во)</th>\n",
              "      <th>Тесты (факт)</th>\n",
              "      <th>СИЗ (факт)</th>\n",
              "      <th>...</th>\n",
              "      <th>Источник 1</th>\n",
              "      <th>Источник 2</th>\n",
              "      <th>Источник 3</th>\n",
              "      <th>Роспотребнадзор</th>\n",
              "      <th>МЧС</th>\n",
              "      <th>Минобороны</th>\n",
              "      <th>Минздрав</th>\n",
              "      <th>ФМБА</th>\n",
              "      <th>Другие организации</th>\n",
              "      <th>Международные \\nорганизации</th>\n",
              "    </tr>\n",
              "  </thead>\n",
              "  <tbody>\n",
              "    <tr>\n",
              "      <th>0</th>\n",
              "      <td>Абхазия</td>\n",
              "      <td>AB</td>\n",
              "      <td>NaN</td>\n",
              "      <td>2020-03-20</td>\n",
              "      <td>NaT</td>\n",
              "      <td>П</td>\n",
              "      <td>NaN</td>\n",
              "      <td>400.0</td>\n",
              "      <td>1.0</td>\n",
              "      <td>NaN</td>\n",
              "      <td>...</td>\n",
              "      <td>https://sputnik-abkhazia.ru/Abkhazia/20200320/...</td>\n",
              "      <td>https://sputnik-abkhazia.ru/Abkhazia/20200326/...</td>\n",
              "      <td>NaN</td>\n",
              "      <td>1.0</td>\n",
              "      <td>NaN</td>\n",
              "      <td>NaN</td>\n",
              "      <td>NaN</td>\n",
              "      <td>NaN</td>\n",
              "      <td>NaN</td>\n",
              "      <td>NaN</td>\n",
              "    </tr>\n",
              "    <tr>\n",
              "      <th>1</th>\n",
              "      <td>Абхазия</td>\n",
              "      <td>AB</td>\n",
              "      <td>NaN</td>\n",
              "      <td>2020-04-18</td>\n",
              "      <td>2020-05-18</td>\n",
              "      <td>П</td>\n",
              "      <td>NaN</td>\n",
              "      <td>NaN</td>\n",
              "      <td>NaN</td>\n",
              "      <td>NaN</td>\n",
              "      <td>...</td>\n",
              "      <td>https://www.mid.ru/ru/press_service/spokesman/...</td>\n",
              "      <td>https://abkhazia.mid.ru/ru/press-centre/news/o...</td>\n",
              "      <td>https://sputnik-abkhazia.ru/coronavirus/202004...</td>\n",
              "      <td>NaN</td>\n",
              "      <td>NaN</td>\n",
              "      <td>1.0</td>\n",
              "      <td>NaN</td>\n",
              "      <td>NaN</td>\n",
              "      <td>NaN</td>\n",
              "      <td>NaN</td>\n",
              "    </tr>\n",
              "    <tr>\n",
              "      <th>2</th>\n",
              "      <td>Абхазия</td>\n",
              "      <td>AB</td>\n",
              "      <td>NaN</td>\n",
              "      <td>2020-10-18</td>\n",
              "      <td>NaT</td>\n",
              "      <td>П</td>\n",
              "      <td>NaN</td>\n",
              "      <td>NaN</td>\n",
              "      <td>NaN</td>\n",
              "      <td>NaN</td>\n",
              "      <td>...</td>\n",
              "      <td>https://function.mil.ru/news_page/country/more...</td>\n",
              "      <td>https://sputnik-abkhazia.ru/Abkhazia/20201107/...</td>\n",
              "      <td>https://function.mil.ru/news_page/country/more...</td>\n",
              "      <td>NaN</td>\n",
              "      <td>NaN</td>\n",
              "      <td>1.0</td>\n",
              "      <td>NaN</td>\n",
              "      <td>NaN</td>\n",
              "      <td>NaN</td>\n",
              "      <td>NaN</td>\n",
              "    </tr>\n",
              "    <tr>\n",
              "      <th>3</th>\n",
              "      <td>Абхазия</td>\n",
              "      <td>AB</td>\n",
              "      <td>NaN</td>\n",
              "      <td>2020-10-27</td>\n",
              "      <td>NaT</td>\n",
              "      <td>П</td>\n",
              "      <td>1000.0</td>\n",
              "      <td>10000.0</td>\n",
              "      <td>1.0</td>\n",
              "      <td>NaN</td>\n",
              "      <td>...</td>\n",
              "      <td>https://apsnypress.info/ru/item/1283-rospotreb...</td>\n",
              "      <td>https://tass.ru/obschestvo/9832327</td>\n",
              "      <td>NaN</td>\n",
              "      <td>1.0</td>\n",
              "      <td>NaN</td>\n",
              "      <td>NaN</td>\n",
              "      <td>NaN</td>\n",
              "      <td>NaN</td>\n",
              "      <td>NaN</td>\n",
              "      <td>NaN</td>\n",
              "    </tr>\n",
              "    <tr>\n",
              "      <th>4</th>\n",
              "      <td>Абхазия</td>\n",
              "      <td>AB</td>\n",
              "      <td>Сухум</td>\n",
              "      <td>2020-10-20</td>\n",
              "      <td>2021-03-09</td>\n",
              "      <td>П</td>\n",
              "      <td>NaN</td>\n",
              "      <td>NaN</td>\n",
              "      <td>NaN</td>\n",
              "      <td>NaN</td>\n",
              "      <td>...</td>\n",
              "      <td>https://function.mil.ru/news_page/country/more...</td>\n",
              "      <td>https://function.mil.ru/news_page/country/more...</td>\n",
              "      <td>https://sputnik-abkhazia.ru/20210312/Na-pomosc...</td>\n",
              "      <td>NaN</td>\n",
              "      <td>NaN</td>\n",
              "      <td>1.0</td>\n",
              "      <td>NaN</td>\n",
              "      <td>NaN</td>\n",
              "      <td>NaN</td>\n",
              "      <td>NaN</td>\n",
              "    </tr>\n",
              "    <tr>\n",
              "      <th>...</th>\n",
              "      <td>...</td>\n",
              "      <td>...</td>\n",
              "      <td>...</td>\n",
              "      <td>...</td>\n",
              "      <td>...</td>\n",
              "      <td>...</td>\n",
              "      <td>...</td>\n",
              "      <td>...</td>\n",
              "      <td>...</td>\n",
              "      <td>...</td>\n",
              "      <td>...</td>\n",
              "      <td>...</td>\n",
              "      <td>...</td>\n",
              "      <td>...</td>\n",
              "      <td>...</td>\n",
              "      <td>...</td>\n",
              "      <td>...</td>\n",
              "      <td>...</td>\n",
              "      <td>...</td>\n",
              "      <td>...</td>\n",
              "      <td>...</td>\n",
              "    </tr>\n",
              "    <tr>\n",
              "      <th>214</th>\n",
              "      <td>Украина</td>\n",
              "      <td>UA</td>\n",
              "      <td>Луганск</td>\n",
              "      <td>2021-07-28</td>\n",
              "      <td>NaT</td>\n",
              "      <td>П</td>\n",
              "      <td>NaN</td>\n",
              "      <td>NaN</td>\n",
              "      <td>NaN</td>\n",
              "      <td>NaN</td>\n",
              "      <td>...</td>\n",
              "      <td>https://sovminlnr.ru/novosti/25116-partiya-vak...</td>\n",
              "      <td>https://lug-info.com/statements/zayavlenie-gla...</td>\n",
              "      <td>https://tass.ru/obschestvo/11788621</td>\n",
              "      <td>NaN</td>\n",
              "      <td>NaN</td>\n",
              "      <td>NaN</td>\n",
              "      <td>NaN</td>\n",
              "      <td>NaN</td>\n",
              "      <td>Единая Россия</td>\n",
              "      <td>NaN</td>\n",
              "    </tr>\n",
              "    <tr>\n",
              "      <th>215</th>\n",
              "      <td>Украина</td>\n",
              "      <td>UA</td>\n",
              "      <td>Донецк</td>\n",
              "      <td>2021-12-23</td>\n",
              "      <td>NaT</td>\n",
              "      <td>П</td>\n",
              "      <td>NaN</td>\n",
              "      <td>NaN</td>\n",
              "      <td>NaN</td>\n",
              "      <td>NaN</td>\n",
              "      <td>...</td>\n",
              "      <td>https://mzdnr.ru/news/v-respubliku-pribyla-och...</td>\n",
              "      <td>https://www.mchs.gov.ru/deyatelnost/press-cent...</td>\n",
              "      <td>NaN</td>\n",
              "      <td>NaN</td>\n",
              "      <td>1.0</td>\n",
              "      <td>NaN</td>\n",
              "      <td>NaN</td>\n",
              "      <td>NaN</td>\n",
              "      <td>NaN</td>\n",
              "      <td>NaN</td>\n",
              "    </tr>\n",
              "    <tr>\n",
              "      <th>216</th>\n",
              "      <td>Украина</td>\n",
              "      <td>UA</td>\n",
              "      <td>Луганск</td>\n",
              "      <td>2021-11-25</td>\n",
              "      <td>NaT</td>\n",
              "      <td>П</td>\n",
              "      <td>NaN</td>\n",
              "      <td>NaN</td>\n",
              "      <td>NaN</td>\n",
              "      <td>NaN</td>\n",
              "      <td>...</td>\n",
              "      <td>https://mzlnr.su/2021/11/25/gumkonvoj-mchs-rf-...</td>\n",
              "      <td>https://www.mchs.gov.ru/deyatelnost/press-cent...</td>\n",
              "      <td>NaN</td>\n",
              "      <td>NaN</td>\n",
              "      <td>1.0</td>\n",
              "      <td>NaN</td>\n",
              "      <td>NaN</td>\n",
              "      <td>NaN</td>\n",
              "      <td>NaN</td>\n",
              "      <td>NaN</td>\n",
              "    </tr>\n",
              "    <tr>\n",
              "      <th>217</th>\n",
              "      <td>Украина</td>\n",
              "      <td>UA</td>\n",
              "      <td>Донецк</td>\n",
              "      <td>2021-11-25</td>\n",
              "      <td>NaT</td>\n",
              "      <td>П</td>\n",
              "      <td>NaN</td>\n",
              "      <td>NaN</td>\n",
              "      <td>NaN</td>\n",
              "      <td>NaN</td>\n",
              "      <td>...</td>\n",
              "      <td>https://mzdnr.ru/news/v-doneckuyu-narodnuyu-re...</td>\n",
              "      <td>https://dan-news.info/foto/rossijskie-spasatel...</td>\n",
              "      <td>https://www.mchs.gov.ru/deyatelnost/press-cent...</td>\n",
              "      <td>NaN</td>\n",
              "      <td>1.0</td>\n",
              "      <td>NaN</td>\n",
              "      <td>NaN</td>\n",
              "      <td>NaN</td>\n",
              "      <td>NaN</td>\n",
              "      <td>NaN</td>\n",
              "    </tr>\n",
              "    <tr>\n",
              "      <th>218</th>\n",
              "      <td>Абхазия</td>\n",
              "      <td>AB</td>\n",
              "      <td>Сухум, Гудаута</td>\n",
              "      <td>2021-08-19</td>\n",
              "      <td>2021-09-24</td>\n",
              "      <td>П</td>\n",
              "      <td>NaN</td>\n",
              "      <td>NaN</td>\n",
              "      <td>NaN</td>\n",
              "      <td>NaN</td>\n",
              "      <td>...</td>\n",
              "      <td>https://www.mid.ru/ru/press_service/spokesman/...</td>\n",
              "      <td>https://function.mil.ru/news_page/country/more...</td>\n",
              "      <td>https://function.mil.ru/news_page/country/more...</td>\n",
              "      <td>NaN</td>\n",
              "      <td>NaN</td>\n",
              "      <td>1.0</td>\n",
              "      <td>NaN</td>\n",
              "      <td>NaN</td>\n",
              "      <td>NaN</td>\n",
              "      <td>NaN</td>\n",
              "    </tr>\n",
              "  </tbody>\n",
              "</table>\n",
              "<p>219 rows × 30 columns</p>\n",
              "</div>\n",
              "      <button class=\"colab-df-convert\" onclick=\"convertToInteractive('df-d2b81c60-4fc6-460a-9841-7adaff488ee7')\"\n",
              "              title=\"Convert this dataframe to an interactive table.\"\n",
              "              style=\"display:none;\">\n",
              "        \n",
              "  <svg xmlns=\"http://www.w3.org/2000/svg\" height=\"24px\"viewBox=\"0 0 24 24\"\n",
              "       width=\"24px\">\n",
              "    <path d=\"M0 0h24v24H0V0z\" fill=\"none\"/>\n",
              "    <path d=\"M18.56 5.44l.94 2.06.94-2.06 2.06-.94-2.06-.94-.94-2.06-.94 2.06-2.06.94zm-11 1L8.5 8.5l.94-2.06 2.06-.94-2.06-.94L8.5 2.5l-.94 2.06-2.06.94zm10 10l.94 2.06.94-2.06 2.06-.94-2.06-.94-.94-2.06-.94 2.06-2.06.94z\"/><path d=\"M17.41 7.96l-1.37-1.37c-.4-.4-.92-.59-1.43-.59-.52 0-1.04.2-1.43.59L10.3 9.45l-7.72 7.72c-.78.78-.78 2.05 0 2.83L4 21.41c.39.39.9.59 1.41.59.51 0 1.02-.2 1.41-.59l7.78-7.78 2.81-2.81c.8-.78.8-2.07 0-2.86zM5.41 20L4 18.59l7.72-7.72 1.47 1.35L5.41 20z\"/>\n",
              "  </svg>\n",
              "      </button>\n",
              "      \n",
              "  <style>\n",
              "    .colab-df-container {\n",
              "      display:flex;\n",
              "      flex-wrap:wrap;\n",
              "      gap: 12px;\n",
              "    }\n",
              "\n",
              "    .colab-df-convert {\n",
              "      background-color: #E8F0FE;\n",
              "      border: none;\n",
              "      border-radius: 50%;\n",
              "      cursor: pointer;\n",
              "      display: none;\n",
              "      fill: #1967D2;\n",
              "      height: 32px;\n",
              "      padding: 0 0 0 0;\n",
              "      width: 32px;\n",
              "    }\n",
              "\n",
              "    .colab-df-convert:hover {\n",
              "      background-color: #E2EBFA;\n",
              "      box-shadow: 0px 1px 2px rgba(60, 64, 67, 0.3), 0px 1px 3px 1px rgba(60, 64, 67, 0.15);\n",
              "      fill: #174EA6;\n",
              "    }\n",
              "\n",
              "    [theme=dark] .colab-df-convert {\n",
              "      background-color: #3B4455;\n",
              "      fill: #D2E3FC;\n",
              "    }\n",
              "\n",
              "    [theme=dark] .colab-df-convert:hover {\n",
              "      background-color: #434B5C;\n",
              "      box-shadow: 0px 1px 3px 1px rgba(0, 0, 0, 0.15);\n",
              "      filter: drop-shadow(0px 1px 2px rgba(0, 0, 0, 0.3));\n",
              "      fill: #FFFFFF;\n",
              "    }\n",
              "  </style>\n",
              "\n",
              "      <script>\n",
              "        const buttonEl =\n",
              "          document.querySelector('#df-d2b81c60-4fc6-460a-9841-7adaff488ee7 button.colab-df-convert');\n",
              "        buttonEl.style.display =\n",
              "          google.colab.kernel.accessAllowed ? 'block' : 'none';\n",
              "\n",
              "        async function convertToInteractive(key) {\n",
              "          const element = document.querySelector('#df-d2b81c60-4fc6-460a-9841-7adaff488ee7');\n",
              "          const dataTable =\n",
              "            await google.colab.kernel.invokeFunction('convertToInteractive',\n",
              "                                                     [key], {});\n",
              "          if (!dataTable) return;\n",
              "\n",
              "          const docLinkHtml = 'Like what you see? Visit the ' +\n",
              "            '<a target=\"_blank\" href=https://colab.research.google.com/notebooks/data_table.ipynb>data table notebook</a>'\n",
              "            + ' to learn more about interactive tables.';\n",
              "          element.innerHTML = '';\n",
              "          dataTable['output_type'] = 'display_data';\n",
              "          await google.colab.output.renderOutput(dataTable, element);\n",
              "          const docLink = document.createElement('div');\n",
              "          docLink.innerHTML = docLinkHtml;\n",
              "          element.appendChild(docLink);\n",
              "        }\n",
              "      </script>\n",
              "    </div>\n",
              "  </div>\n",
              "  "
            ]
          },
          "metadata": {},
          "execution_count": 7
        }
      ]
    },
    {
      "cell_type": "markdown",
      "metadata": {
        "id": "uh0LTxI5kWhF"
      },
      "source": [
        "#### 1. Выведете типы данных столбцов"
      ]
    },
    {
      "cell_type": "code",
      "execution_count": null,
      "metadata": {
        "scrolled": true,
        "colab": {
          "base_uri": "https://localhost:8080/"
        },
        "id": "tNP9bgsQkWhF",
        "outputId": "d17e5b4d-d199-4956-af41-f6f44cd70a68"
      },
      "outputs": [
        {
          "output_type": "stream",
          "name": "stdout",
          "text": [
            "<class 'pandas.core.frame.DataFrame'>\n",
            "RangeIndex: 219 entries, 0 to 218\n",
            "Data columns (total 30 columns):\n",
            " #   Column                                                  Non-Null Count  Dtype         \n",
            "---  ------                                                  --------------  -----         \n",
            " 0   Страна                                                  219 non-null    object        \n",
            " 1   Краткие обозначения                                     218 non-null    object        \n",
            " 2   Город                                                   129 non-null    object        \n",
            " 3   Дата \n",
            "поставки/\n",
            "новости                                 219 non-null    datetime64[ns]\n",
            " 4   Дата завершения (для случаев отправления персонала)     19 non-null     datetime64[ns]\n",
            " 5   Природа помощи (правительственная/неправительственная)  219 non-null    object        \n",
            " 6   Наборы тестов (кол-во)                                  22 non-null     float64       \n",
            " 7   Тест-системы/исследования (кол-во)                      55 non-null     float64       \n",
            " 8   Тесты (факт)                                            84 non-null     float64       \n",
            " 9   СИЗ (факт)                                              44 non-null     float64       \n",
            " 10  Мед. оборудование (факт)                                28 non-null     float64       \n",
            " 11  Медикаменты (факт)                                      23 non-null     float64       \n",
            " 12  Персонал (факт)                                         34 non-null     float64       \n",
            " 13  Вакцина (кол-во)                                        33 non-null     float64       \n",
            " 14  Марка вакцины                                           38 non-null     object        \n",
            " 15  Вакцина (первый компонент)                              8 non-null      float64       \n",
            " 16  Вакцина (второй компонент)                              8 non-null      float64       \n",
            " 17  Вакцина (факт)                                          38 non-null     float64       \n",
            " 18  Прочее (факт)                                           37 non-null     float64       \n",
            " 19  Карточка помощи \n",
            "(описание, текст)                      219 non-null    object        \n",
            " 20  Источник 1                                              219 non-null    object        \n",
            " 21  Источник 2                                              132 non-null    object        \n",
            " 22  Источник 3                                              75 non-null     object        \n",
            " 23  Роспотребнадзор                                         80 non-null     float64       \n",
            " 24  МЧС                                                     26 non-null     float64       \n",
            " 25  Минобороны                                              21 non-null     float64       \n",
            " 26  Минздрав                                                10 non-null     float64       \n",
            " 27  ФМБА                                                    2 non-null      float64       \n",
            " 28  Другие организации                                      77 non-null     object        \n",
            " 29  Международные \n",
            "организации                              7 non-null      object        \n",
            "dtypes: datetime64[ns](2), float64(17), object(11)\n",
            "memory usage: 51.5+ KB\n"
          ]
        }
      ],
      "source": [
        "# ВАШ КОД ЗДЕСЬ\n",
        "df.info()"
      ]
    },
    {
      "cell_type": "markdown",
      "metadata": {
        "id": "Gmi0Xw6HkWhG"
      },
      "source": [
        "#### 3. Уберите из названий столбцов знаки переносов ('\\n')"
      ]
    },
    {
      "cell_type": "code",
      "execution_count": null,
      "metadata": {
        "id": "lH-pmQAGkWhG"
      },
      "outputs": [],
      "source": [
        "# ВАШ КОД ЗДЕСЬ\n",
        "df.columns = df.columns.str.replace('\\n', '', regex=True)"
      ]
    },
    {
      "cell_type": "code",
      "source": [
        "df.columns"
      ],
      "metadata": {
        "colab": {
          "base_uri": "https://localhost:8080/"
        },
        "id": "Q0tuj8IMnWz6",
        "outputId": "f08ebf2e-454f-4288-a64f-53fb5f62b8cf"
      },
      "execution_count": null,
      "outputs": [
        {
          "output_type": "execute_result",
          "data": {
            "text/plain": [
              "Index(['Страна', 'Краткие обозначения', 'Город', 'Дата поставки/новости',\n",
              "       'Дата завершения (для случаев отправления персонала)',\n",
              "       'Природа помощи (правительственная/неправительственная)',\n",
              "       'Наборы тестов (кол-во)', 'Тест-системы/исследования (кол-во)',\n",
              "       'Тесты (факт)', 'СИЗ (факт)', 'Мед. оборудование (факт)',\n",
              "       'Медикаменты (факт)', 'Персонал (факт)', 'Вакцина (кол-во)',\n",
              "       'Марка вакцины', 'Вакцина (первый компонент)',\n",
              "       'Вакцина (второй компонент)', 'Вакцина (факт)', 'Прочее (факт)',\n",
              "       'Карточка помощи (описание, текст)', 'Источник 1', 'Источник 2',\n",
              "       'Источник 3', 'Роспотребнадзор', 'МЧС', 'Минобороны', 'Минздрав',\n",
              "       'ФМБА', 'Другие организации', 'Международные организации'],\n",
              "      dtype='object')"
            ]
          },
          "metadata": {},
          "execution_count": 16
        }
      ]
    },
    {
      "cell_type": "markdown",
      "metadata": {
        "id": "TiO9zReykWhH"
      },
      "source": [
        "#### 4. Выведите таблицу, которая позволит просмотреть первую дату поставки и общее количество поставленной вакцины в рамках Марки вакцины и страны."
      ]
    },
    {
      "cell_type": "code",
      "execution_count": null,
      "metadata": {
        "scrolled": true,
        "id": "FDEUDOMgkWhH"
      },
      "outputs": [],
      "source": [
        "# ВАШ КОД ЗДЕСЬ\n",
        "res = df.groupby(['Марка вакцины', 'Страна'])['Вакцина (кол-во)', 'Дата поставки/новости'].min().reset_index()"
      ]
    },
    {
      "cell_type": "code",
      "source": [
        "res['Дата поставки/новости'] = res['Дата поставки/новости'].apply(lambda x: x.strftime('%Y-%m-%d'))\n",
        "\n",
        "res.info()"
      ],
      "metadata": {
        "colab": {
          "base_uri": "https://localhost:8080/"
        },
        "id": "SKXi4p62t0fJ",
        "outputId": "828cf4f2-9752-473d-eb58-bc05c5253aac"
      },
      "execution_count": null,
      "outputs": [
        {
          "output_type": "stream",
          "name": "stdout",
          "text": [
            "<class 'pandas.core.frame.DataFrame'>\n",
            "RangeIndex: 24 entries, 0 to 23\n",
            "Data columns (total 4 columns):\n",
            " #   Column                 Non-Null Count  Dtype  \n",
            "---  ------                 --------------  -----  \n",
            " 0   Марка вакцины          24 non-null     object \n",
            " 1   Страна                 24 non-null     object \n",
            " 2   Вакцина (кол-во)       23 non-null     float64\n",
            " 3   Дата поставки/новости  24 non-null     object \n",
            "dtypes: float64(1), object(3)\n",
            "memory usage: 896.0+ bytes\n"
          ]
        }
      ]
    },
    {
      "cell_type": "markdown",
      "metadata": {
        "id": "rKU0kxGZkWhH"
      },
      "source": [
        "#### 5. Напишите код для выгрузки полученной таблицы из задания 4 в xlsx так, чтобы лист Excel-файла назывался \"Выгрузка\" и были сохранены заголовки таблицы"
      ]
    },
    {
      "cell_type": "code",
      "execution_count": null,
      "metadata": {
        "id": "3nd6B36VkWhI"
      },
      "outputs": [],
      "source": [
        "# ВАШ КОД ЗДЕСЬ\n",
        "res.to_excel(r'Выгрузка2.xlsx', header=True, index=False, encoding='utf8')"
      ]
    },
    {
      "cell_type": "markdown",
      "metadata": {
        "id": "mbqju-aDkWhI"
      },
      "source": [
        "#### 6. Достать домены источников 1, 2, 3\n",
        "Для столбцов Источников создать столбцы Доменов, где будет извлечен только домен (источник: https://sputnik-abkhazia.ru/Abkhazia/20200320/..., домен: sputnik-abkhazia.ru). В исходном датасете 3 столбца источника и соответственно должно быть создана 3 столбца с доменами."
      ]
    },
    {
      "cell_type": "code",
      "execution_count": null,
      "metadata": {
        "id": "VKm0bI1LkWhJ"
      },
      "outputs": [],
      "source": [
        "# ВАШ КОД ЗДЕСЬ\n",
        "from urllib.parse import urlparse\n",
        "\n",
        "\n",
        "def get_domain_name(url):\n",
        "    return urlparse(str(url)).netloc\n",
        "\n",
        "\n",
        "df['Домен 1'] = df['Источник 1'].apply(lambda row: get_domain_name(row))\n",
        "df['Домен 2'] = df['Источник 2'].apply(lambda row: get_domain_name(row))\n",
        "df['Домен 3'] = df['Источник 3'].apply(lambda row: get_domain_name(row))"
      ]
    }
  ],
  "metadata": {
    "kernelspec": {
      "display_name": "Python 3",
      "language": "python",
      "name": "python3"
    },
    "language_info": {
      "codemirror_mode": {
        "name": "ipython",
        "version": 3
      },
      "file_extension": ".py",
      "mimetype": "text/x-python",
      "name": "python",
      "nbconvert_exporter": "python",
      "pygments_lexer": "ipython3",
      "version": "3.8.5"
    },
    "colab": {
      "provenance": [],
      "collapsed_sections": []
    }
  },
  "nbformat": 4,
  "nbformat_minor": 0
}